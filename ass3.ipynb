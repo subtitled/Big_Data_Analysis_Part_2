{
 "cells": [
  {
   "cell_type": "code",
   "execution_count": 2,
   "metadata": {},
   "outputs": [],
   "source": [
    "import pandas as pd\n",
    "import matplotlib.pyplot as plt\n",
    "import seaborn as sns"
   ]
  },
  {
   "cell_type": "code",
   "execution_count": 26,
   "metadata": {},
   "outputs": [
    {
     "data": {
      "text/html": [
       "<div>\n",
       "<style scoped>\n",
       "    .dataframe tbody tr th:only-of-type {\n",
       "        vertical-align: middle;\n",
       "    }\n",
       "\n",
       "    .dataframe tbody tr th {\n",
       "        vertical-align: top;\n",
       "    }\n",
       "\n",
       "    .dataframe thead th {\n",
       "        text-align: right;\n",
       "    }\n",
       "</style>\n",
       "<table border=\"1\" class=\"dataframe\">\n",
       "  <thead>\n",
       "    <tr style=\"text-align: right;\">\n",
       "      <th></th>\n",
       "      <th>Id</th>\n",
       "      <th>Title</th>\n",
       "      <th>Company</th>\n",
       "      <th>Date</th>\n",
       "      <th>Location</th>\n",
       "      <th>Area</th>\n",
       "      <th>Classification</th>\n",
       "      <th>SubClassification</th>\n",
       "      <th>Requirement</th>\n",
       "      <th>FullDescription</th>\n",
       "      <th>LowestSalary</th>\n",
       "      <th>HighestSalary</th>\n",
       "      <th>JobType</th>\n",
       "    </tr>\n",
       "  </thead>\n",
       "  <tbody>\n",
       "    <tr>\n",
       "      <th>2</th>\n",
       "      <td>37404356</td>\n",
       "      <td>RETAIL SALES SUPERSTARS and STYLISTS Wanted - ...</td>\n",
       "      <td>LB Creative Pty Ltd</td>\n",
       "      <td>2018-10-07T00:00:00.000Z</td>\n",
       "      <td>Brisbane</td>\n",
       "      <td>CBD &amp; Inner Suburbs</td>\n",
       "      <td>Retail &amp; Consumer Products</td>\n",
       "      <td>Retail Assistants</td>\n",
       "      <td>BRAND NEW FLAGSHIP STORE OPENING - SUNSHINE PLAZA</td>\n",
       "      <td>NaN</td>\n",
       "      <td>0</td>\n",
       "      <td>30</td>\n",
       "      <td>NaN</td>\n",
       "    </tr>\n",
       "    <tr>\n",
       "      <th>7</th>\n",
       "      <td>37404350</td>\n",
       "      <td>Casual Café All-rounder in Woolloongabba</td>\n",
       "      <td>Jora Local</td>\n",
       "      <td>2018-10-07T00:00:00.000Z</td>\n",
       "      <td>Brisbane</td>\n",
       "      <td>CBD &amp; Inner Suburbs</td>\n",
       "      <td>Hospitality &amp; Tourism</td>\n",
       "      <td>Waiting Staff</td>\n",
       "      <td>A cafe in Woolloongabba is seeking a casual Ca...</td>\n",
       "      <td>NaN</td>\n",
       "      <td>0</td>\n",
       "      <td>30</td>\n",
       "      <td>NaN</td>\n",
       "    </tr>\n",
       "    <tr>\n",
       "      <th>21</th>\n",
       "      <td>37404239</td>\n",
       "      <td>Casual Barista in Murarrie</td>\n",
       "      <td>Jora Local</td>\n",
       "      <td>2018-10-07T00:00:00.000Z</td>\n",
       "      <td>Brisbane</td>\n",
       "      <td>CBD &amp; Inner Suburbs</td>\n",
       "      <td>Hospitality &amp; Tourism</td>\n",
       "      <td>Bar &amp; Beverage Staff</td>\n",
       "      <td>A cafe in Murarrie is seeking a casual Barista...</td>\n",
       "      <td>NaN</td>\n",
       "      <td>0</td>\n",
       "      <td>30</td>\n",
       "      <td>NaN</td>\n",
       "    </tr>\n",
       "    <tr>\n",
       "      <th>26</th>\n",
       "      <td>37404396</td>\n",
       "      <td>Clinical Document Processing and Quality Assur...</td>\n",
       "      <td>West Moreton Hospital and Health Service</td>\n",
       "      <td>2018-10-07T00:00:00.000Z</td>\n",
       "      <td>Brisbane</td>\n",
       "      <td>Western Suburbs &amp; Ipswich</td>\n",
       "      <td>Administration &amp; Office Support</td>\n",
       "      <td>Records Management &amp; Document Control</td>\n",
       "      <td>administrative and systems support in relation...</td>\n",
       "      <td>NaN</td>\n",
       "      <td>0</td>\n",
       "      <td>30</td>\n",
       "      <td>NaN</td>\n",
       "    </tr>\n",
       "    <tr>\n",
       "      <th>40</th>\n",
       "      <td>37404400</td>\n",
       "      <td>Project Officer</td>\n",
       "      <td>Metro South Health</td>\n",
       "      <td>2018-10-07T00:00:00.000Z</td>\n",
       "      <td>Brisbane</td>\n",
       "      <td>NaN</td>\n",
       "      <td>Administration &amp; Office Support</td>\n",
       "      <td>Other</td>\n",
       "      <td>Asset and Infrastructure Services are looking ...</td>\n",
       "      <td>NaN</td>\n",
       "      <td>0</td>\n",
       "      <td>30</td>\n",
       "      <td>NaN</td>\n",
       "    </tr>\n",
       "  </tbody>\n",
       "</table>\n",
       "</div>"
      ],
      "text/plain": [
       "          Id                                              Title  \\\n",
       "2   37404356  RETAIL SALES SUPERSTARS and STYLISTS Wanted - ...   \n",
       "7   37404350           Casual Café All-rounder in Woolloongabba   \n",
       "21  37404239                         Casual Barista in Murarrie   \n",
       "26  37404396  Clinical Document Processing and Quality Assur...   \n",
       "40  37404400                                    Project Officer   \n",
       "\n",
       "                                     Company                      Date  \\\n",
       "2                        LB Creative Pty Ltd  2018-10-07T00:00:00.000Z   \n",
       "7                                 Jora Local  2018-10-07T00:00:00.000Z   \n",
       "21                                Jora Local  2018-10-07T00:00:00.000Z   \n",
       "26  West Moreton Hospital and Health Service  2018-10-07T00:00:00.000Z   \n",
       "40                        Metro South Health  2018-10-07T00:00:00.000Z   \n",
       "\n",
       "    Location                       Area                   Classification  \\\n",
       "2   Brisbane        CBD & Inner Suburbs       Retail & Consumer Products   \n",
       "7   Brisbane        CBD & Inner Suburbs            Hospitality & Tourism   \n",
       "21  Brisbane        CBD & Inner Suburbs            Hospitality & Tourism   \n",
       "26  Brisbane  Western Suburbs & Ipswich  Administration & Office Support   \n",
       "40  Brisbane                        NaN  Administration & Office Support   \n",
       "\n",
       "                        SubClassification  \\\n",
       "2                       Retail Assistants   \n",
       "7                           Waiting Staff   \n",
       "21                   Bar & Beverage Staff   \n",
       "26  Records Management & Document Control   \n",
       "40                                  Other   \n",
       "\n",
       "                                          Requirement FullDescription  \\\n",
       "2   BRAND NEW FLAGSHIP STORE OPENING - SUNSHINE PLAZA             NaN   \n",
       "7   A cafe in Woolloongabba is seeking a casual Ca...             NaN   \n",
       "21  A cafe in Murarrie is seeking a casual Barista...             NaN   \n",
       "26  administrative and systems support in relation...             NaN   \n",
       "40  Asset and Infrastructure Services are looking ...             NaN   \n",
       "\n",
       "    LowestSalary  HighestSalary JobType  \n",
       "2              0             30     NaN  \n",
       "7              0             30     NaN  \n",
       "21             0             30     NaN  \n",
       "26             0             30     NaN  \n",
       "40             0             30     NaN  "
      ]
     },
     "execution_count": 26,
     "metadata": {},
     "output_type": "execute_result"
    }
   ],
   "source": [
    "df = pd.read_csv('data_assignment.csv')\n",
    "#1. ANALYSE BY COMPARISON\n",
    "#Choose your two favourite cities/locations.\n",
    "#Which city has more jobs?How many jobs of each type (casual, fulltime, etc.) in each city?\n",
    "bris_jobs = df[df['Location'] == 'Brisbane']\n",
    "goldie_jobs = df[df['Location'] == 'Gold Coast']\n",
    "bris_jobs.head()"
   ]
  },
  {
   "cell_type": "code",
   "execution_count": 18,
   "metadata": {},
   "outputs": [
    {
     "data": {
      "text/plain": [
       "16538"
      ]
     },
     "execution_count": 18,
     "metadata": {},
     "output_type": "execute_result"
    }
   ],
   "source": [
    "len(bris_jobs)"
   ]
  },
  {
   "cell_type": "code",
   "execution_count": 19,
   "metadata": {},
   "outputs": [
    {
     "data": {
      "text/plain": [
       "2758"
      ]
     },
     "execution_count": 19,
     "metadata": {},
     "output_type": "execute_result"
    }
   ],
   "source": [
    "len(goldie_jobs)"
   ]
  },
  {
   "cell_type": "code",
   "execution_count": 8,
   "metadata": {},
   "outputs": [
    {
     "data": {
      "text/plain": [
       "Full Time          10431\n",
       "Contract/Temp       3164\n",
       "Casual/Vacation     1543\n",
       "Part Time            988\n",
       "Name: JobType, dtype: int64"
      ]
     },
     "execution_count": 8,
     "metadata": {},
     "output_type": "execute_result"
    }
   ],
   "source": [
    "bris_jobs['JobType'].value_counts()"
   ]
  },
  {
   "cell_type": "code",
   "execution_count": 9,
   "metadata": {},
   "outputs": [
    {
     "data": {
      "text/plain": [
       "Full Time          1617\n",
       "Casual/Vacation     539\n",
       "Contract/Temp       299\n",
       "Part Time           244\n",
       "Name: JobType, dtype: int64"
      ]
     },
     "execution_count": 9,
     "metadata": {},
     "output_type": "execute_result"
    }
   ],
   "source": [
    "goldie_jobs['JobType'].value_counts()"
   ]
  },
  {
   "cell_type": "code",
   "execution_count": 24,
   "metadata": {},
   "outputs": [
    {
     "data": {
      "text/plain": [
       "Information & Communication Technology    2041\n",
       "Trades & Services                         1627\n",
       "Healthcare & Medical                      1341\n",
       "Manufacturing, Transport & Logistics      1338\n",
       "Hospitality & Tourism                     1032\n",
       "Name: Classification, dtype: int64"
      ]
     },
     "execution_count": 24,
     "metadata": {},
     "output_type": "execute_result"
    }
   ],
   "source": [
    "#In each city, which are the top 5 job sectors? \n",
    "#How many jobs are there in each sector?\n",
    "bris_class = bris_jobs['Classification'].value_counts()[:5]\n",
    "bris_class"
   ]
  },
  {
   "cell_type": "code",
   "execution_count": 25,
   "metadata": {},
   "outputs": [
    {
     "data": {
      "text/plain": [
       "Hospitality & Tourism                   467\n",
       "Trades & Services                       363\n",
       "Healthcare & Medical                    339\n",
       "Retail & Consumer Products              180\n",
       "Manufacturing, Transport & Logistics    176\n",
       "Name: Classification, dtype: int64"
      ]
     },
     "execution_count": 25,
     "metadata": {},
     "output_type": "execute_result"
    }
   ],
   "source": [
    "goldie_class = goldie_jobs['Classification'].value_counts()[:5]\n",
    "goldie_class"
   ]
  },
  {
   "cell_type": "code",
   "execution_count": 4,
   "metadata": {},
   "outputs": [],
   "source": [
    "#Visualise the top 5 job sectors in pie chart for each city.\n"
   ]
  },
  {
   "cell_type": "code",
   "execution_count": 5,
   "metadata": {},
   "outputs": [],
   "source": [
    "#In each city, list the job salary range with the corresponding number of jobs. \n",
    "#Which city is more well-paid?"
   ]
  },
  {
   "cell_type": "code",
   "execution_count": null,
   "metadata": {},
   "outputs": [],
   "source": [
    "\n",
    "#LEAVING BLANK FOR READABILITY. BELOW IS INFORMATION FOR BRISBANE\n"
   ]
  },
  {
   "cell_type": "code",
   "execution_count": 38,
   "metadata": {},
   "outputs": [
    {
     "data": {
      "text/plain": [
       "Jora Local                      238\n",
       "u&u. Recruitment Partners       191\n",
       "Hudson                          187\n",
       "The University of Queensland    180\n",
       "Programmed Skilled Workforce    171\n",
       "Name: Company, dtype: int64"
      ]
     },
     "execution_count": 38,
     "metadata": {},
     "output_type": "execute_result"
    }
   ],
   "source": [
    "#List top 5 companies in each city? Which sectors do they belong to?\n",
    "bris_jobs['Company'].value_counts()[:5]"
   ]
  },
  {
   "cell_type": "code",
   "execution_count": 40,
   "metadata": {
    "scrolled": true
   },
   "outputs": [
    {
     "data": {
      "text/plain": [
       "Hospitality & Tourism         235\n",
       "Trades & Services               2\n",
       "Retail & Consumer Products      1\n",
       "Name: Classification, dtype: int64"
      ]
     },
     "execution_count": 40,
     "metadata": {},
     "output_type": "execute_result"
    }
   ],
   "source": [
    "#Finding Jora Local classification counts to find what sector is the majority\n",
    "bris_jobs[bris_jobs['Company'] == 'Jora Local']['Classification'].value_counts()"
   ]
  },
  {
   "cell_type": "code",
   "execution_count": 41,
   "metadata": {
    "scrolled": true
   },
   "outputs": [
    {
     "data": {
      "text/plain": [
       "Information & Communication Technology    85\n",
       "Accounting                                26\n",
       "Legal                                     17\n",
       "Human Resources & Recruitment             12\n",
       "Marketing & Communications                11\n",
       "Administration & Office Support            8\n",
       "Construction                               6\n",
       "Sales                                      5\n",
       "Engineering                                5\n",
       "Consulting & Strategy                      3\n",
       "Banking & Financial Services               3\n",
       "Manufacturing, Transport & Logistics       2\n",
       "Government & Defence                       2\n",
       "Design & Architecture                      2\n",
       "Mining, Resources & Energy                 1\n",
       "Education & Training                       1\n",
       "Community Services & Development           1\n",
       "Call Centre & Customer Service             1\n",
       "Name: Classification, dtype: int64"
      ]
     },
     "execution_count": 41,
     "metadata": {},
     "output_type": "execute_result"
    }
   ],
   "source": [
    "#Finding u&u classification counts to find what sector is the majority\n",
    "bris_jobs[bris_jobs['Company'] == 'u&u. Recruitment Partners']['Classification'].value_counts()"
   ]
  },
  {
   "cell_type": "code",
   "execution_count": 42,
   "metadata": {
    "scrolled": true
   },
   "outputs": [
    {
     "data": {
      "text/plain": [
       "Information & Communication Technology    116\n",
       "Administration & Office Support            21\n",
       "Human Resources & Recruitment               9\n",
       "Government & Defence                        7\n",
       "Accounting                                  7\n",
       "Engineering                                 5\n",
       "Consulting & Strategy                       4\n",
       "Call Centre & Customer Service              4\n",
       "Marketing & Communications                  4\n",
       "Education & Training                        3\n",
       "Hospitality & Tourism                       2\n",
       "CEO & General Management                    1\n",
       "Manufacturing, Transport & Logistics        1\n",
       "Sales                                       1\n",
       "Community Services & Development            1\n",
       "Design & Architecture                       1\n",
       "Name: Classification, dtype: int64"
      ]
     },
     "execution_count": 42,
     "metadata": {},
     "output_type": "execute_result"
    }
   ],
   "source": [
    "#Finding Hudson classification counts to find what sector is the majority\n",
    "bris_jobs[bris_jobs['Company'] == 'Hudson']['Classification'].value_counts()"
   ]
  },
  {
   "cell_type": "code",
   "execution_count": 43,
   "metadata": {
    "scrolled": true
   },
   "outputs": [
    {
     "data": {
      "text/plain": [
       "Education & Training                      121\n",
       "Science & Technology                       12\n",
       "Healthcare & Medical                       10\n",
       "Administration & Office Support             9\n",
       "Engineering                                 8\n",
       "Information & Communication Technology      6\n",
       "Marketing & Communications                  3\n",
       "Accounting                                  3\n",
       "Human Resources & Recruitment               2\n",
       "Consulting & Strategy                       1\n",
       "Real Estate & Property                      1\n",
       "Advertising, Arts & Media                   1\n",
       "Mining, Resources & Energy                  1\n",
       "Community Services & Development            1\n",
       "Design & Architecture                       1\n",
       "Name: Classification, dtype: int64"
      ]
     },
     "execution_count": 43,
     "metadata": {},
     "output_type": "execute_result"
    }
   ],
   "source": [
    "#Finding UQ classification counts to find what sector is the majority\n",
    "bris_jobs[bris_jobs['Company'] == 'The University of Queensland']['Classification'].value_counts()"
   ]
  },
  {
   "cell_type": "code",
   "execution_count": 44,
   "metadata": {
    "scrolled": true
   },
   "outputs": [
    {
     "data": {
      "text/plain": [
       "Manufacturing, Transport & Logistics      86\n",
       "Trades & Services                         74\n",
       "Administration & Office Support            4\n",
       "Construction                               4\n",
       "Human Resources & Recruitment              1\n",
       "Information & Communication Technology     1\n",
       "Sport & Recreation                         1\n",
       "Name: Classification, dtype: int64"
      ]
     },
     "execution_count": 44,
     "metadata": {},
     "output_type": "execute_result"
    }
   ],
   "source": [
    "#Finding Programmed Skilled WF classification counts to find what sector is the majority\n",
    "bris_jobs[bris_jobs['Company'] == 'Programmed Skilled Workforce']['Classification'].value_counts()"
   ]
  },
  {
   "cell_type": "code",
   "execution_count": null,
   "metadata": {},
   "outputs": [],
   "source": [
    "\n",
    "#LEAVING BLANK FOR READABILITY. BELOW IS INFORMATION FOR GOLD COAST\n"
   ]
  },
  {
   "cell_type": "code",
   "execution_count": 28,
   "metadata": {},
   "outputs": [
    {
     "data": {
      "text/plain": [
       "Jora Local                              139\n",
       "Gold Coast Hospital & Health Service     64\n",
       "Hays Trades & Labour                     45\n",
       "City of Gold Coast                       30\n",
       "Griffith University                      28\n",
       "Name: Company, dtype: int64"
      ]
     },
     "execution_count": 28,
     "metadata": {},
     "output_type": "execute_result"
    }
   ],
   "source": [
    "goldie_jobs['Company'].value_counts()[:5]"
   ]
  },
  {
   "cell_type": "code",
   "execution_count": 45,
   "metadata": {
    "scrolled": true
   },
   "outputs": [
    {
     "data": {
      "text/plain": [
       "Hospitality & Tourism         134\n",
       "Retail & Consumer Products      3\n",
       "Trades & Services               2\n",
       "Name: Classification, dtype: int64"
      ]
     },
     "execution_count": 45,
     "metadata": {},
     "output_type": "execute_result"
    }
   ],
   "source": [
    "#Finding Jora Local classification counts to find what sector is the majority\n",
    "goldie_jobs[goldie_jobs['Company'] == 'Jora Local']['Classification'].value_counts()"
   ]
  },
  {
   "cell_type": "code",
   "execution_count": 46,
   "metadata": {
    "scrolled": true
   },
   "outputs": [
    {
     "data": {
      "text/plain": [
       "Government & Defence               31\n",
       "Healthcare & Medical               24\n",
       "Administration & Office Support     3\n",
       "Banking & Financial Services        2\n",
       "Legal                               2\n",
       "Education & Training                1\n",
       "Hospitality & Tourism               1\n",
       "Name: Classification, dtype: int64"
      ]
     },
     "execution_count": 46,
     "metadata": {},
     "output_type": "execute_result"
    }
   ],
   "source": [
    "#Finding GC Hospital classification counts to find what sector is the majority\n",
    "goldie_jobs[goldie_jobs['Company'] == 'Gold Coast Hospital & Health Service']['Classification'].value_counts()"
   ]
  },
  {
   "cell_type": "code",
   "execution_count": 47,
   "metadata": {
    "scrolled": true
   },
   "outputs": [
    {
     "data": {
      "text/plain": [
       "Trades & Services                       40\n",
       "Manufacturing, Transport & Logistics     2\n",
       "Sport & Recreation                       2\n",
       "Construction                             1\n",
       "Name: Classification, dtype: int64"
      ]
     },
     "execution_count": 47,
     "metadata": {},
     "output_type": "execute_result"
    }
   ],
   "source": [
    "#Finding Hays classification counts to find what sector is the majority\n",
    "goldie_jobs[goldie_jobs['Company'] == 'Hays Trades & Labour']['Classification'].value_counts()"
   ]
  },
  {
   "cell_type": "code",
   "execution_count": 48,
   "metadata": {
    "scrolled": true
   },
   "outputs": [
    {
     "data": {
      "text/plain": [
       "Government & Defence                      15\n",
       "Engineering                                7\n",
       "Education & Training                       2\n",
       "Information & Communication Technology     2\n",
       "Consulting & Strategy                      1\n",
       "Sport & Recreation                         1\n",
       "Design & Architecture                      1\n",
       "CEO & General Management                   1\n",
       "Name: Classification, dtype: int64"
      ]
     },
     "execution_count": 48,
     "metadata": {},
     "output_type": "execute_result"
    }
   ],
   "source": [
    "#Finding City of GC classification counts to find what sector is the majority\n",
    "goldie_jobs[goldie_jobs['Company'] == 'City of Gold Coast']['Classification'].value_counts()"
   ]
  },
  {
   "cell_type": "code",
   "execution_count": 49,
   "metadata": {
    "scrolled": true
   },
   "outputs": [
    {
     "data": {
      "text/plain": [
       "Education & Training                      21\n",
       "Administration & Office Support            4\n",
       "Information & Communication Technology     1\n",
       "Healthcare & Medical                       1\n",
       "Banking & Financial Services               1\n",
       "Name: Classification, dtype: int64"
      ]
     },
     "execution_count": 49,
     "metadata": {},
     "output_type": "execute_result"
    }
   ],
   "source": [
    "#Finding GU classification counts to find what sector is the majority\n",
    "goldie_jobs[goldie_jobs['Company'] == 'Griffith University']['Classification'].value_counts()"
   ]
  },
  {
   "cell_type": "code",
   "execution_count": 50,
   "metadata": {},
   "outputs": [],
   "source": [
    "\n",
    "#LEAVING BLANK FOR READABILITY\n"
   ]
  },
  {
   "cell_type": "code",
   "execution_count": 7,
   "metadata": {},
   "outputs": [],
   "source": [
    "#Between 2 cities, which do you think it is better for employees. Explain your choice."
   ]
  },
  {
   "cell_type": "code",
   "execution_count": 8,
   "metadata": {},
   "outputs": [],
   "source": [
    "#2. ANALYSE BY TIME\n",
    "#Visualise the number of job posts by month."
   ]
  },
  {
   "cell_type": "code",
   "execution_count": 10,
   "metadata": {},
   "outputs": [],
   "source": [
    "#Visualise the number of job posts by day of week."
   ]
  },
  {
   "cell_type": "code",
   "execution_count": 11,
   "metadata": {},
   "outputs": [],
   "source": [
    "#Visualise the number of job posts by day of the month."
   ]
  },
  {
   "cell_type": "code",
   "execution_count": 12,
   "metadata": {},
   "outputs": [],
   "source": [
    "#Visualise trending of the job postings for the big cities."
   ]
  },
  {
   "cell_type": "code",
   "execution_count": 13,
   "metadata": {},
   "outputs": [],
   "source": [
    "#Based on the above charts, provide your observation about the number of job posts over time.\n",
    "#Give your own conclusion."
   ]
  },
  {
   "cell_type": "code",
   "execution_count": 14,
   "metadata": {},
   "outputs": [],
   "source": [
    "#3. Forecasting and Skill Extractions\n",
    "#Using moving average for 7 days and 30 days to predict the number of jobs postings and visualise them in a line chart.\n",
    "#Which one creates a better prediction? Explain your choice."
   ]
  },
  {
   "cell_type": "code",
   "execution_count": 15,
   "metadata": {},
   "outputs": [],
   "source": [
    "#Choose your favourtie job sector/sub-sector, then use TF/IDF to extract important keywords.\n",
    "#Visualise in word cloud chart."
   ]
  },
  {
   "cell_type": "code",
   "execution_count": 16,
   "metadata": {},
   "outputs": [],
   "source": [
    "#Discussion\n",
    "#Scenario 1\n",
    "#Need to find possible major at Uni which can guarantee a job in QLD with income >= 80k"
   ]
  },
  {
   "cell_type": "code",
   "execution_count": null,
   "metadata": {},
   "outputs": [],
   "source": [
    "#Scenario 2\n",
    "#Find which majors should be increased/refuced based on chances to find job in field?"
   ]
  }
 ],
 "metadata": {
  "kernelspec": {
   "display_name": "Python 3",
   "language": "python",
   "name": "python3"
  },
  "language_info": {
   "codemirror_mode": {
    "name": "ipython",
    "version": 3
   },
   "file_extension": ".py",
   "mimetype": "text/x-python",
   "name": "python",
   "nbconvert_exporter": "python",
   "pygments_lexer": "ipython3",
   "version": "3.7.6"
  }
 },
 "nbformat": 4,
 "nbformat_minor": 4
}
